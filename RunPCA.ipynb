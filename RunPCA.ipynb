{
  "nbformat": 4,
  "nbformat_minor": 0,
  "metadata": {
    "colab": {
      "name": "RunPCA.ipynb",
      "provenance": [],
      "collapsed_sections": []
    },
    "kernelspec": {
      "name": "python3",
      "display_name": "Python 3"
    },
    "language_info": {
      "name": "python"
    }
  },
  "cells": [
    {
      "cell_type": "code",
      "execution_count": null,
      "metadata": {
        "colab": {
          "base_uri": "https://localhost:8080/"
        },
        "id": "mss-3AxxCEhP",
        "outputId": "116d8802-3bcb-418e-ced9-09b508f2db7f"
      },
      "outputs": [
        {
          "output_type": "stream",
          "name": "stdout",
          "text": [
            "Mounted at /content/drive\n"
          ]
        }
      ],
      "source": [
        "from google.colab import drive\n",
        "drive.mount('/content/drive')"
      ]
    },
    {
      "cell_type": "code",
      "source": [
        "import os\n",
        "import numpy as np\n",
        "import pandas as pd \n",
        "from sklearn.decomposition import PCA\n",
        "\n",
        "path = '/content/drive/MyDrive/Group2Module2_CSS844/processed_files/'\n",
        "\n",
        "n_components = 30\n",
        "files = []\n",
        "all_xs, all_ys, all_zs = [], [], []\n",
        "\n",
        "for file in os.listdir(path):\n",
        "    files.append(file.replace('.npy', ''))   \n",
        "    arr = np.load(os.path.join(path, file)) \n",
        "    all_xs.append(arr[:, :, 0].mean(axis=0))\n",
        "    all_ys.append(arr[:, :, 1].mean(axis=0))\n",
        "    all_zs.append(arr[:, :, 2].mean(axis=0))\n",
        "\n",
        "all_xs = np.vstack(all_xs)\n",
        "all_ys = np.vstack(all_ys)\n",
        "all_zs = np.vstack(all_zs)\n",
        "\n",
        "print(f\"Fitting PCA with {n_components} componenets in each dim\")\n",
        "x_pca = PCA(n_components=n_components, random_state=42).fit_transform(all_xs)\n",
        "y_pca = PCA(n_components=n_components, random_state=42).fit_transform(all_ys)\n",
        "z_pca = PCA(n_components=n_components, random_state=42).fit_transform(all_zs)\n",
        "plot_pca = np.concatenate((x_pca, y_pca, z_pca), axis=1)\n",
        "\n",
        "# print(f\"% of Explained variance via top {n_components} components:\")\n",
        "# print(\"X axis:\", x_pca.explained_variance_ratio_[:n_components].sum())\n",
        "# print(\"Y axis:\", y_pca.explained_variance_ratio_[:n_components].sum())\n",
        "# print(\"Z axis:\", z_pca.explained_variance_ratio_[:n_components].sum())\n",
        "\n",
        "\n",
        "df = pd.DataFrame(plot_pca)\n",
        "df['plot'] = pd.Series(files)\n",
        "\n",
        "df.to_csv(os.path.join(path, '..', f'pca_{n_components}_features.csv'), index=False)\n"
      ],
      "metadata": {
        "colab": {
          "base_uri": "https://localhost:8080/"
        },
        "id": "r5YfiqajCagS",
        "outputId": "771379aa-be7c-42f5-dcb4-cb8cb1939e62"
      },
      "execution_count": null,
      "outputs": [
        {
          "output_type": "stream",
          "name": "stdout",
          "text": [
            "Fitting PCA with 30 componenets in each dim\n",
            "% of Explained variance via top 30 components:\n",
            "X axis: 0.9254480759427374\n",
            "Y axis: 1.0000000000000007\n",
            "Z axis: 0.9795708182827709\n"
          ]
        }
      ]
    },
    {
      "cell_type": "code",
      "source": [
        ""
      ],
      "metadata": {
        "id": "Hgwag7cnCajm"
      },
      "execution_count": null,
      "outputs": []
    }
  ]
}